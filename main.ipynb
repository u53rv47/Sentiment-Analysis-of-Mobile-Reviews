{
 "cells": [
  {
   "cell_type": "code",
   "execution_count": 43,
   "id": "26a3aef4",
   "metadata": {},
   "outputs": [],
   "source": [
    "import os\n",
    "import re\n",
    "import glob\n",
    "import emoji\n",
    "import pandas as pd\n",
    "\n",
    "import nltk\n",
    "from nltk.corpus import stopwords\n",
    "from nltk.stem.porter import PorterStemmer\n"
   ]
  },
  {
   "cell_type": "code",
   "execution_count": 21,
   "id": "022b0bb6",
   "metadata": {},
   "outputs": [
    {
     "name": "stdout",
     "output_type": "stream",
     "text": [
      "317\n"
     ]
    },
    {
     "data": {
      "text/html": [
       "<div>\n",
       "<style scoped>\n",
       "    .dataframe tbody tr th:only-of-type {\n",
       "        vertical-align: middle;\n",
       "    }\n",
       "\n",
       "    .dataframe tbody tr th {\n",
       "        vertical-align: top;\n",
       "    }\n",
       "\n",
       "    .dataframe thead th {\n",
       "        text-align: right;\n",
       "    }\n",
       "</style>\n",
       "<table border=\"1\" class=\"dataframe\">\n",
       "  <thead>\n",
       "    <tr style=\"text-align: right;\">\n",
       "      <th></th>\n",
       "      <th>Brand</th>\n",
       "      <th>Name</th>\n",
       "      <th>Price</th>\n",
       "      <th>Link</th>\n",
       "      <th>Features</th>\n",
       "      <th>Overall Rating</th>\n",
       "      <th>Total Reviews</th>\n",
       "      <th>Pages</th>\n",
       "      <th>5</th>\n",
       "      <th>4</th>\n",
       "      <th>3</th>\n",
       "      <th>2</th>\n",
       "      <th>1</th>\n",
       "    </tr>\n",
       "  </thead>\n",
       "  <tbody>\n",
       "    <tr>\n",
       "      <th>0</th>\n",
       "      <td>Asus Mobile</td>\n",
       "      <td>ASUS ZenFone 5Z</td>\n",
       "      <td>36,299</td>\n",
       "      <td>https://www.flipkart.com/asus-zenfone-5z-midni...</td>\n",
       "      <td>['6 GB RAM | 128 GB ROM | Expandable Upto 2 TB...</td>\n",
       "      <td>4.5</td>\n",
       "      <td>4616</td>\n",
       "      <td>462</td>\n",
       "      <td>15005</td>\n",
       "      <td>4566</td>\n",
       "      <td>979</td>\n",
       "      <td>339</td>\n",
       "      <td>1052</td>\n",
       "    </tr>\n",
       "  </tbody>\n",
       "</table>\n",
       "</div>"
      ],
      "text/plain": [
       "         Brand             Name   Price  \\\n",
       "0  Asus Mobile  ASUS ZenFone 5Z  36,299   \n",
       "\n",
       "                                                Link  \\\n",
       "0  https://www.flipkart.com/asus-zenfone-5z-midni...   \n",
       "\n",
       "                                            Features  Overall Rating  \\\n",
       "0  ['6 GB RAM | 128 GB ROM | Expandable Upto 2 TB...             4.5   \n",
       "\n",
       "   Total Reviews  Pages      5     4    3    2     1  \n",
       "0           4616    462  15005  4566  979  339  1052  "
      ]
     },
     "execution_count": 21,
     "metadata": {},
     "output_type": "execute_result"
    }
   ],
   "source": [
    "product_list = pd.read_csv('unique_product_list_with_ratings.csv')\n",
    "q = product_list['Pages'].quantile(.95)\n",
    "product_list = product_list[product_list['Pages'] < q]\n",
    "product_list.reset_index(drop=True, inplace=True)\n",
    "product_list['Pages'] = product_list['Pages'].astype(dtype='int')\n",
    "product_list['Total Reviews'] = product_list['Total Reviews'].apply(lambda x: x.replace(',', '')).astype(\n",
    "    dtype='int')\n",
    "print(len(product_list))\n",
    "product_list.head(1)\n"
   ]
  },
  {
   "cell_type": "code",
   "execution_count": 30,
   "id": "88d9e8c8",
   "metadata": {},
   "outputs": [
    {
     "data": {
      "text/plain": [
       "672580"
      ]
     },
     "execution_count": 30,
     "metadata": {},
     "output_type": "execute_result"
    }
   ],
   "source": [
    "product_list['Total Reviews'].sum()"
   ]
  },
  {
   "cell_type": "code",
   "execution_count": null,
   "id": "005fb672",
   "metadata": {},
   "outputs": [],
   "source": [
    "path = os.getcwd()\n",
    "csv_files = glob.glob(os.path.join(path, \"reviews/*.csv\"))\n",
    "data = pd.DataFrame(columns=['product', 'username', 'user_rating', 'title', 'user_review', 'review_posted_time'])\n",
    "dfs = []\n",
    "for f in csv_files:\n",
    "    dfs.append(pd.read_csv(f))\n",
    "\n",
    "data = pd.concat([df for df in dfs])\n",
    "data.head()"
   ]
  },
  {
   "attachments": {},
   "cell_type": "markdown",
   "id": "404081cb",
   "metadata": {},
   "source": [
    "# Preprocessing steps\n",
    "1. Demojize\n",
    "2. Lower casing\n",
    "3. Remove special characters\n",
    "4. Links / URLs\n",
    "5. Remove stopwords\n",
    "6. Handle chat conversations*\n",
    "7. Text Correction\n",
    "8. "
   ]
  },
  {
   "cell_type": "code",
   "execution_count": 26,
   "id": "b5ddf2cd",
   "metadata": {},
   "outputs": [
    {
     "data": {
      "text/html": [
       "<div>\n",
       "<style scoped>\n",
       "    .dataframe tbody tr th:only-of-type {\n",
       "        vertical-align: middle;\n",
       "    }\n",
       "\n",
       "    .dataframe tbody tr th {\n",
       "        vertical-align: top;\n",
       "    }\n",
       "\n",
       "    .dataframe thead th {\n",
       "        text-align: right;\n",
       "    }\n",
       "</style>\n",
       "<table border=\"1\" class=\"dataframe\">\n",
       "  <thead>\n",
       "    <tr style=\"text-align: right;\">\n",
       "      <th></th>\n",
       "      <th>product</th>\n",
       "      <th>username</th>\n",
       "      <th>user_rating</th>\n",
       "      <th>title</th>\n",
       "      <th>user_review</th>\n",
       "      <th>review_posted_time</th>\n",
       "    </tr>\n",
       "  </thead>\n",
       "  <tbody>\n",
       "    <tr>\n",
       "      <th>0</th>\n",
       "      <td>IQOO 9T 5G</td>\n",
       "      <td>Moin Pops</td>\n",
       "      <td>4.0</td>\n",
       "      <td>Best in the market!</td>\n",
       "      <td>Awesome 👌</td>\n",
       "      <td>2 months ago</td>\n",
       "    </tr>\n",
       "    <tr>\n",
       "      <th>1</th>\n",
       "      <td>IQOO 9T 5G</td>\n",
       "      <td>Flipkart Customer</td>\n",
       "      <td>5.0</td>\n",
       "      <td>Worth every penny</td>\n",
       "      <td>So smoothly game performance</td>\n",
       "      <td>3 months ago</td>\n",
       "    </tr>\n",
       "    <tr>\n",
       "      <th>2</th>\n",
       "      <td>IQOO 9T 5G</td>\n",
       "      <td>Flipkart Customer</td>\n",
       "      <td>5.0</td>\n",
       "      <td>Great product</td>\n",
       "      <td>Best camera in this segment.. Just I loved it 🔥</td>\n",
       "      <td>30 days ago</td>\n",
       "    </tr>\n",
       "    <tr>\n",
       "      <th>3</th>\n",
       "      <td>IQOO 9T 5G</td>\n",
       "      <td>Karthik H</td>\n",
       "      <td>5.0</td>\n",
       "      <td>Terrible product</td>\n",
       "      <td>Low quality mobile not worth even for 20k Feel...</td>\n",
       "      <td>1 month ago</td>\n",
       "    </tr>\n",
       "    <tr>\n",
       "      <th>4</th>\n",
       "      <td>IQOO 9T 5G</td>\n",
       "      <td>Bhargav Bhargav</td>\n",
       "      <td>1.0</td>\n",
       "      <td>Decent product</td>\n",
       "      <td>According to price ok and specifications and d...</td>\n",
       "      <td>12 days ago</td>\n",
       "    </tr>\n",
       "  </tbody>\n",
       "</table>\n",
       "</div>"
      ],
      "text/plain": [
       "      product           username  user_rating                title  \\\n",
       "0  IQOO 9T 5G          Moin Pops          4.0  Best in the market!   \n",
       "1  IQOO 9T 5G  Flipkart Customer          5.0    Worth every penny   \n",
       "2  IQOO 9T 5G  Flipkart Customer          5.0        Great product   \n",
       "3  IQOO 9T 5G          Karthik H          5.0     Terrible product   \n",
       "4  IQOO 9T 5G    Bhargav Bhargav          1.0       Decent product   \n",
       "\n",
       "                                         user_review review_posted_time  \n",
       "0                                          Awesome 👌       2 months ago  \n",
       "1                       So smoothly game performance       3 months ago  \n",
       "2    Best camera in this segment.. Just I loved it 🔥        30 days ago  \n",
       "3  Low quality mobile not worth even for 20k Feel...        1 month ago  \n",
       "4  According to price ok and specifications and d...        12 days ago  "
      ]
     },
     "execution_count": 26,
     "metadata": {},
     "output_type": "execute_result"
    }
   ],
   "source": [
    "data = pd.read_csv('reviews_201_to_last.csv')\n",
    "data.head()"
   ]
  },
  {
   "cell_type": "code",
   "execution_count": 41,
   "id": "7f4b1ed7",
   "metadata": {},
   "outputs": [],
   "source": [
    "data.drop(['username', 'review_posted_time'], axis=1, inplace=True)\n"
   ]
  },
  {
   "cell_type": "code",
   "execution_count": 28,
   "id": "6ad2d4f4",
   "metadata": {},
   "outputs": [
    {
     "data": {
      "text/plain": [
       "(799258, 6)"
      ]
     },
     "execution_count": 28,
     "metadata": {},
     "output_type": "execute_result"
    }
   ],
   "source": [
    "data.shape"
   ]
  },
  {
   "cell_type": "code",
   "execution_count": 39,
   "id": "ee682b55",
   "metadata": {},
   "outputs": [],
   "source": [
    "data['title'] = data['title'].apply(lambda text: emoji.demojize(str(text)))\n",
    "data['user_review'] = data['user_review'].apply(\n",
    "    lambda text: emoji.demojize(str(text)))\n"
   ]
  },
  {
   "cell_type": "code",
   "execution_count": 42,
   "id": "c4fec64c",
   "metadata": {},
   "outputs": [
    {
     "data": {
      "text/html": [
       "<div>\n",
       "<style scoped>\n",
       "    .dataframe tbody tr th:only-of-type {\n",
       "        vertical-align: middle;\n",
       "    }\n",
       "\n",
       "    .dataframe tbody tr th {\n",
       "        vertical-align: top;\n",
       "    }\n",
       "\n",
       "    .dataframe thead th {\n",
       "        text-align: right;\n",
       "    }\n",
       "</style>\n",
       "<table border=\"1\" class=\"dataframe\">\n",
       "  <thead>\n",
       "    <tr style=\"text-align: right;\">\n",
       "      <th></th>\n",
       "      <th>product</th>\n",
       "      <th>user_rating</th>\n",
       "      <th>title</th>\n",
       "      <th>user_review</th>\n",
       "    </tr>\n",
       "  </thead>\n",
       "  <tbody>\n",
       "    <tr>\n",
       "      <th>0</th>\n",
       "      <td>IQOO 9T 5G</td>\n",
       "      <td>4.0</td>\n",
       "      <td>Best in the market!</td>\n",
       "      <td>Awesome :OK_hand:</td>\n",
       "    </tr>\n",
       "    <tr>\n",
       "      <th>1</th>\n",
       "      <td>IQOO 9T 5G</td>\n",
       "      <td>5.0</td>\n",
       "      <td>Worth every penny</td>\n",
       "      <td>So smoothly game performance</td>\n",
       "    </tr>\n",
       "    <tr>\n",
       "      <th>2</th>\n",
       "      <td>IQOO 9T 5G</td>\n",
       "      <td>5.0</td>\n",
       "      <td>Great product</td>\n",
       "      <td>Best camera in this segment.. Just I loved it ...</td>\n",
       "    </tr>\n",
       "    <tr>\n",
       "      <th>3</th>\n",
       "      <td>IQOO 9T 5G</td>\n",
       "      <td>5.0</td>\n",
       "      <td>Terrible product</td>\n",
       "      <td>Low quality mobile not worth even for 20k Feel...</td>\n",
       "    </tr>\n",
       "    <tr>\n",
       "      <th>4</th>\n",
       "      <td>IQOO 9T 5G</td>\n",
       "      <td>1.0</td>\n",
       "      <td>Decent product</td>\n",
       "      <td>According to price ok and specifications and d...</td>\n",
       "    </tr>\n",
       "  </tbody>\n",
       "</table>\n",
       "</div>"
      ],
      "text/plain": [
       "      product  user_rating                title  \\\n",
       "0  IQOO 9T 5G          4.0  Best in the market!   \n",
       "1  IQOO 9T 5G          5.0    Worth every penny   \n",
       "2  IQOO 9T 5G          5.0        Great product   \n",
       "3  IQOO 9T 5G          5.0     Terrible product   \n",
       "4  IQOO 9T 5G          1.0       Decent product   \n",
       "\n",
       "                                         user_review  \n",
       "0                                  Awesome :OK_hand:  \n",
       "1                       So smoothly game performance  \n",
       "2  Best camera in this segment.. Just I loved it ...  \n",
       "3  Low quality mobile not worth even for 20k Feel...  \n",
       "4  According to price ok and specifications and d...  "
      ]
     },
     "execution_count": 42,
     "metadata": {},
     "output_type": "execute_result"
    }
   ],
   "source": [
    "data.head()"
   ]
  },
  {
   "cell_type": "markdown",
   "id": "6b28d66d",
   "metadata": {},
   "source": [
    "Product --> shows related names while typing (can be selected or not)\n",
    "if selected --> show dashboard\n",
    "else show dashboard of related product(s)\n",
    "\n",
    "Rating & Review (OPTIONAL / CONDITIONAL) --> SENTIMENT by category"
   ]
  },
  {
   "cell_type": "code",
   "execution_count": null,
   "id": "fbe72692",
   "metadata": {},
   "outputs": [],
   "source": [
    "FLOW\n",
    "\n",
    "more the rating ---> more positve"
   ]
  }
 ],
 "metadata": {
  "celltoolbar": "Raw Cell Format",
  "kernelspec": {
   "display_name": "Python 3",
   "language": "python",
   "name": "python3"
  },
  "language_info": {
   "codemirror_mode": {
    "name": "ipython",
    "version": 3
   },
   "file_extension": ".py",
   "mimetype": "text/x-python",
   "name": "python",
   "nbconvert_exporter": "python",
   "pygments_lexer": "ipython3",
   "version": "3.10.4 (tags/v3.10.4:9d38120, Mar 23 2022, 23:13:41) [MSC v.1929 64 bit (AMD64)]"
  },
  "vscode": {
   "interpreter": {
    "hash": "1ce4ab41de5e60bb6ed1e6d98083279fcdd09272dfa38fc11d3c0040da5f242a"
   }
  }
 },
 "nbformat": 4,
 "nbformat_minor": 5
}
