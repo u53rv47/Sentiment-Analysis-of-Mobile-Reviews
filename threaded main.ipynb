{
 "cells": [
  {
   "cell_type": "code",
   "execution_count": 3,
   "metadata": {},
   "outputs": [],
   "source": [
    "import os\n",
    "import time\n",
    "import pandas as pd\n",
    "from selenium import webdriver\n",
    "from selenium.webdriver.support.wait import WebDriverWait\n",
    "from selenium.webdriver.support import expected_conditions as EC\n",
    "from selenium.webdriver.common.by import By\n",
    "from bs4 import BeautifulSoup\n",
    "from threading import Thread\n"
   ]
  },
  {
   "cell_type": "code",
   "execution_count": 12,
   "metadata": {},
   "outputs": [],
   "source": [
    "NUM_DRIVER = os.cpu_count()\n",
    "options = webdriver.ChromeOptions()\n",
    "options.headless = True"
   ]
  },
  {
   "cell_type": "code",
   "execution_count": 13,
   "metadata": {},
   "outputs": [],
   "source": [
    "class Reviews(Thread):\n",
    "    def __init__(self, driver_id, product_list, index_start=0, index_end= 314):\n",
    "        Thread.__init__(self,)\n",
    "        self.driver_id = driver_id\n",
    "        self.product_list = product_list\n",
    "        self.index_start = index_start\n",
    "        self.index_end = index_end\n",
    "        \n",
    "        self.review_df = pd.DataFrame(columns=['product', 'username', 'user_rating',\n",
    "                                               'title', 'user_review', 'review_posted_time'])\n",
    "        self.idx = 0\n",
    "\n",
    "        print('Initializing driver', self.driver_id)\n",
    "        self.driver = webdriver.Chrome(options=options)\n",
    "\n",
    "    def run(self) -> None:\n",
    "        for index in range(self.index_start, self.index_end + 1):\n",
    "            if index % NUM_DRIVER == self.driver_id:\n",
    "\n",
    "                product_name = self.product_list['Name'][index]\n",
    "                product_link = self.product_list['Link'][index]\n",
    "                pages = self.product_list['Pages'][index]\n",
    "                for page in range(pages):\n",
    "                    # print('\\nIndex - Driver : Page / Pages  :  Product Name')\n",
    "                    print(index, '-', self.driver_id, ':', page + 1, '/', pages, ' : ', product_name)\n",
    "\n",
    "                    # print('Page:', i, '    ', 'Driver:', driver_id)\n",
    "                    replace_string = 'product-reviews'\n",
    "                    review_link = product_link[0: product_link.index(\n",
    "                        'FLIPKART') + 8]\n",
    "                    review_link = review_link.split('/')\n",
    "                    review_link[4] = replace_string\n",
    "                    review_link = '/'.join(review_link)\n",
    "                    # page = zipped[2]\n",
    "\n",
    "                    url = review_link + '&page=' + str(page+1)\n",
    "                    self.driver.get(url)\n",
    "                    try:\n",
    "                        WebDriverWait(self.driver, 2).until(\n",
    "                            EC.presence_of_element_located(\n",
    "                                (By.XPATH, \"//span[text()='READ MORE']\")))\n",
    "\n",
    "                        element = self.driver.find_elements(\n",
    "                            By.XPATH, \"//span[text()='READ MORE']\")  # For expanding reviews\n",
    "\n",
    "                        for i in element:\n",
    "                            if i.text == 'READ MORE':\n",
    "                                i.click()\n",
    "                    except:\n",
    "                        pass\n",
    "                    \n",
    "                    html = self.driver.page_source\n",
    "                    soup = BeautifulSoup(html, 'html.parser')\n",
    "\n",
    "                    reviews = soup.find_all(\n",
    "                        'div', attrs={'class': 'col _2wzgFH K0kLPL'})\n",
    "                    for review in reviews:\n",
    "                        row = review.find(\n",
    "                            'div', attrs={'class': 'row'})\n",
    "                        user_rating = row.find('div').text\n",
    "                        title = row.find('p').text\n",
    "                        user_review = review.find(\n",
    "                            'div', attrs={'class': 't-ZTKy'}).text.replace('READ MORE', '')\n",
    "\n",
    "                        res = [product_name, user_rating,\n",
    "                            title, user_review]\n",
    "                        self.review_df.loc[self.idx] = res\n",
    "                        self.idx += 1"
   ]
  },
  {
   "cell_type": "code",
   "execution_count": 7,
   "metadata": {},
   "outputs": [
    {
     "name": "stdout",
     "output_type": "stream",
     "text": [
      "317\n"
     ]
    },
    {
     "data": {
      "text/html": [
       "<div>\n",
       "<style scoped>\n",
       "    .dataframe tbody tr th:only-of-type {\n",
       "        vertical-align: middle;\n",
       "    }\n",
       "\n",
       "    .dataframe tbody tr th {\n",
       "        vertical-align: top;\n",
       "    }\n",
       "\n",
       "    .dataframe thead th {\n",
       "        text-align: right;\n",
       "    }\n",
       "</style>\n",
       "<table border=\"1\" class=\"dataframe\">\n",
       "  <thead>\n",
       "    <tr style=\"text-align: right;\">\n",
       "      <th></th>\n",
       "      <th>Brand</th>\n",
       "      <th>Name</th>\n",
       "      <th>Price</th>\n",
       "      <th>Link</th>\n",
       "      <th>Features</th>\n",
       "      <th>Overall Rating</th>\n",
       "      <th>Total Reviews</th>\n",
       "      <th>Pages</th>\n",
       "      <th>5</th>\n",
       "      <th>4</th>\n",
       "      <th>3</th>\n",
       "      <th>2</th>\n",
       "      <th>1</th>\n",
       "    </tr>\n",
       "  </thead>\n",
       "  <tbody>\n",
       "    <tr>\n",
       "      <th>0</th>\n",
       "      <td>Asus Mobile</td>\n",
       "      <td>ASUS ZenFone 5Z</td>\n",
       "      <td>36,299</td>\n",
       "      <td>https://www.flipkart.com/asus-zenfone-5z-midni...</td>\n",
       "      <td>['6 GB RAM | 128 GB ROM | Expandable Upto 2 TB...</td>\n",
       "      <td>4.5</td>\n",
       "      <td>4616</td>\n",
       "      <td>462</td>\n",
       "      <td>15005</td>\n",
       "      <td>4566</td>\n",
       "      <td>979</td>\n",
       "      <td>339</td>\n",
       "      <td>1052</td>\n",
       "    </tr>\n",
       "  </tbody>\n",
       "</table>\n",
       "</div>"
      ],
      "text/plain": [
       "         Brand             Name   Price  \\\n",
       "0  Asus Mobile  ASUS ZenFone 5Z  36,299   \n",
       "\n",
       "                                                Link  \\\n",
       "0  https://www.flipkart.com/asus-zenfone-5z-midni...   \n",
       "\n",
       "                                            Features  Overall Rating  \\\n",
       "0  ['6 GB RAM | 128 GB ROM | Expandable Upto 2 TB...             4.5   \n",
       "\n",
       "   Total Reviews  Pages      5     4    3    2     1  \n",
       "0           4616    462  15005  4566  979  339  1052  "
      ]
     },
     "execution_count": 7,
     "metadata": {},
     "output_type": "execute_result"
    }
   ],
   "source": [
    "product_list = pd.read_csv('unique_product_list_with_ratings.csv')\n",
    "q = product_list['Pages'].quantile(.95)\n",
    "product_list = product_list[product_list['Pages'] < q]\n",
    "\n",
    "product_list = product_list.sort_values(by='Pages').reset_index(drop=True)\n",
    "# product_list = product_list.reset_index(drop=True)\n",
    "\n",
    "product_list['Pages'] = product_list['Pages'].astype(dtype='int')\n",
    "product_list['Total Reviews'] = product_list['Total Reviews'].apply(lambda x: x.replace(',', '')).astype(\n",
    "    dtype='int')\n",
    "print(len(product_list))\n",
    "product_list.head(1)\n"
   ]
  },
  {
   "attachments": {},
   "cell_type": "markdown",
   "metadata": {},
   "source": [
    "Fetching data in chuncks"
   ]
  },
  {
   "cell_type": "code",
   "execution_count": null,
   "metadata": {},
   "outputs": [],
   "source": [
    "idx = [150, 158]\n",
    "\n",
    "for j in range(len(idx) - 1):\n",
    "    INDEX_START = idx[j] + 1\n",
    "    INDEX_END = idx[j + 1]\n",
    "\n",
    "    # product_list['Total Reviews'].iloc[INDEX_START: INDEX_END + 1].sum()\n",
    "    threads = []\n",
    "    start = time.time()\n",
    "    for i in range(NUM_DRIVER):\n",
    "        thread = Reviews(driver_id=i, product_list=product_list, index_start=INDEX_START, index_end=INDEX_END)\n",
    "        threads.append(thread)\n",
    "\n",
    "    print('\\nIndex - Driver : Page / Pages  :  Product Name')\n",
    "    for i in range(NUM_DRIVER):\n",
    "        threads[i].start()\n",
    "        \n",
    "    for i in range(NUM_DRIVER):\n",
    "        threads[i].join()\n",
    "\n",
    "    time.sleep(1)\n",
    "\n",
    "    review_df = pd.concat([pd.DataFrame(data=threads[i].review_df).T for i in range(NUM_DRIVER)], ignore_index=True)\n",
    "    \n",
    "    time.sleep(1)\n",
    "    print('Total  vs  Fetched')\n",
    "    total = product_list['Total Reviews'].iloc[INDEX_START: INDEX_END + 1].sum()\n",
    "    fetched = len(review_df)\n",
    "    print(total, ' vs ', fetched)\n",
    "    \n",
    "    review_df.to_csv(f'reviews_{INDEX_START}_to_{INDEX_END}.csv', index=False)\n",
    "    \n"
   ]
  },
  {
   "attachments": {},
   "cell_type": "markdown",
   "metadata": {},
   "source": [
    "Printing number of reviews for each chunk"
   ]
  },
  {
   "cell_type": "code",
   "execution_count": 8,
   "metadata": {},
   "outputs": [
    {
     "name": "stdout",
     "output_type": "stream",
     "text": [
      "Total Reviews: 672580\n",
      "Total Reviews from 0 to 25: 100641\n",
      "Total Reviews from 26 to 50: 98951\n",
      "Total Reviews from 51 to 75: 61557\n",
      "Total Reviews from 76 to 100: 72715\n"
     ]
    }
   ],
   "source": [
    "idx = [-1, 25, 50, 75, 100]\n",
    "print('Total Reviews:', product_list['Total Reviews'].sum())\n",
    "for i in range(len(idx) - 1):\n",
    "    INDEX_START = idx[i] + 1\n",
    "    INDEX_END = idx[i + 1]\n",
    "    reviews = product_list['Total Reviews'].iloc[INDEX_START: INDEX_END + 1].sum()\n",
    "    print(f'Total Reviews from {INDEX_START} to {INDEX_END}:', reviews)\n"
   ]
  },
  {
   "attachments": {},
   "cell_type": "markdown",
   "metadata": {},
   "source": [
    "Printing lenght of fetched data (from files)"
   ]
  },
  {
   "cell_type": "code",
   "execution_count": 6,
   "metadata": {},
   "outputs": [
    {
     "ename": "FileNotFoundError",
     "evalue": "[Errno 2] No such file or directory: 'reviews/reviews_151_to_160.csv'",
     "output_type": "error",
     "traceback": [
      "\u001b[1;31m---------------------------------------------------------------------------\u001b[0m",
      "\u001b[1;31mFileNotFoundError\u001b[0m                         Traceback (most recent call last)",
      "\u001b[1;32me:\\Machine Learning\\Sentiment Analysis of Reviews\\threaded main.ipynb Cell 11\u001b[0m in \u001b[0;36m<cell line: 2>\u001b[1;34m()\u001b[0m\n\u001b[0;32m      <a href='vscode-notebook-cell:/e%3A/Machine%20Learning/Sentiment%20Analysis%20of%20Reviews/threaded%20main.ipynb#X13sZmlsZQ%3D%3D?line=2'>3</a>\u001b[0m INDEX_START \u001b[39m=\u001b[39m idx[i] \u001b[39m+\u001b[39m \u001b[39m1\u001b[39m\n\u001b[0;32m      <a href='vscode-notebook-cell:/e%3A/Machine%20Learning/Sentiment%20Analysis%20of%20Reviews/threaded%20main.ipynb#X13sZmlsZQ%3D%3D?line=3'>4</a>\u001b[0m INDEX_END \u001b[39m=\u001b[39m idx[i \u001b[39m+\u001b[39m \u001b[39m1\u001b[39m]\n\u001b[1;32m----> <a href='vscode-notebook-cell:/e%3A/Machine%20Learning/Sentiment%20Analysis%20of%20Reviews/threaded%20main.ipynb#X13sZmlsZQ%3D%3D?line=5'>6</a>\u001b[0m file \u001b[39m=\u001b[39m pd\u001b[39m.\u001b[39;49mread_csv(\u001b[39mf\u001b[39;49m\u001b[39m'\u001b[39;49m\u001b[39mreviews/reviews_\u001b[39;49m\u001b[39m{\u001b[39;49;00mINDEX_START\u001b[39m}\u001b[39;49;00m\u001b[39m_to_\u001b[39;49m\u001b[39m{\u001b[39;49;00mINDEX_END\u001b[39m}\u001b[39;49;00m\u001b[39m.csv\u001b[39;49m\u001b[39m'\u001b[39;49m)\n\u001b[0;32m      <a href='vscode-notebook-cell:/e%3A/Machine%20Learning/Sentiment%20Analysis%20of%20Reviews/threaded%20main.ipynb#X13sZmlsZQ%3D%3D?line=6'>7</a>\u001b[0m reviews \u001b[39m+\u001b[39m\u001b[39m=\u001b[39m \u001b[39mlen\u001b[39m(file)\n\u001b[0;32m      <a href='vscode-notebook-cell:/e%3A/Machine%20Learning/Sentiment%20Analysis%20of%20Reviews/threaded%20main.ipynb#X13sZmlsZQ%3D%3D?line=7'>8</a>\u001b[0m \u001b[39mprint\u001b[39m(\u001b[39mf\u001b[39m\u001b[39m'\u001b[39m\u001b[39mreviews_\u001b[39m\u001b[39m{\u001b[39;00mINDEX_START\u001b[39m}\u001b[39;00m\u001b[39m_to_\u001b[39m\u001b[39m{\u001b[39;00mINDEX_END\u001b[39m}\u001b[39;00m\u001b[39m:\u001b[39m\u001b[39m'\u001b[39m, \u001b[39mlen\u001b[39m(file))\n",
      "File \u001b[1;32mc:\\Users\\vijay\\AppData\\Local\\Programs\\Python\\Python310\\lib\\site-packages\\pandas\\util\\_decorators.py:311\u001b[0m, in \u001b[0;36mdeprecate_nonkeyword_arguments.<locals>.decorate.<locals>.wrapper\u001b[1;34m(*args, **kwargs)\u001b[0m\n\u001b[0;32m    305\u001b[0m \u001b[39mif\u001b[39;00m \u001b[39mlen\u001b[39m(args) \u001b[39m>\u001b[39m num_allow_args:\n\u001b[0;32m    306\u001b[0m     warnings\u001b[39m.\u001b[39mwarn(\n\u001b[0;32m    307\u001b[0m         msg\u001b[39m.\u001b[39mformat(arguments\u001b[39m=\u001b[39marguments),\n\u001b[0;32m    308\u001b[0m         \u001b[39mFutureWarning\u001b[39;00m,\n\u001b[0;32m    309\u001b[0m         stacklevel\u001b[39m=\u001b[39mstacklevel,\n\u001b[0;32m    310\u001b[0m     )\n\u001b[1;32m--> 311\u001b[0m \u001b[39mreturn\u001b[39;00m func(\u001b[39m*\u001b[39margs, \u001b[39m*\u001b[39m\u001b[39m*\u001b[39mkwargs)\n",
      "File \u001b[1;32mc:\\Users\\vijay\\AppData\\Local\\Programs\\Python\\Python310\\lib\\site-packages\\pandas\\io\\parsers\\readers.py:680\u001b[0m, in \u001b[0;36mread_csv\u001b[1;34m(filepath_or_buffer, sep, delimiter, header, names, index_col, usecols, squeeze, prefix, mangle_dupe_cols, dtype, engine, converters, true_values, false_values, skipinitialspace, skiprows, skipfooter, nrows, na_values, keep_default_na, na_filter, verbose, skip_blank_lines, parse_dates, infer_datetime_format, keep_date_col, date_parser, dayfirst, cache_dates, iterator, chunksize, compression, thousands, decimal, lineterminator, quotechar, quoting, doublequote, escapechar, comment, encoding, encoding_errors, dialect, error_bad_lines, warn_bad_lines, on_bad_lines, delim_whitespace, low_memory, memory_map, float_precision, storage_options)\u001b[0m\n\u001b[0;32m    665\u001b[0m kwds_defaults \u001b[39m=\u001b[39m _refine_defaults_read(\n\u001b[0;32m    666\u001b[0m     dialect,\n\u001b[0;32m    667\u001b[0m     delimiter,\n\u001b[1;32m   (...)\u001b[0m\n\u001b[0;32m    676\u001b[0m     defaults\u001b[39m=\u001b[39m{\u001b[39m\"\u001b[39m\u001b[39mdelimiter\u001b[39m\u001b[39m\"\u001b[39m: \u001b[39m\"\u001b[39m\u001b[39m,\u001b[39m\u001b[39m\"\u001b[39m},\n\u001b[0;32m    677\u001b[0m )\n\u001b[0;32m    678\u001b[0m kwds\u001b[39m.\u001b[39mupdate(kwds_defaults)\n\u001b[1;32m--> 680\u001b[0m \u001b[39mreturn\u001b[39;00m _read(filepath_or_buffer, kwds)\n",
      "File \u001b[1;32mc:\\Users\\vijay\\AppData\\Local\\Programs\\Python\\Python310\\lib\\site-packages\\pandas\\io\\parsers\\readers.py:575\u001b[0m, in \u001b[0;36m_read\u001b[1;34m(filepath_or_buffer, kwds)\u001b[0m\n\u001b[0;32m    572\u001b[0m _validate_names(kwds\u001b[39m.\u001b[39mget(\u001b[39m\"\u001b[39m\u001b[39mnames\u001b[39m\u001b[39m\"\u001b[39m, \u001b[39mNone\u001b[39;00m))\n\u001b[0;32m    574\u001b[0m \u001b[39m# Create the parser.\u001b[39;00m\n\u001b[1;32m--> 575\u001b[0m parser \u001b[39m=\u001b[39m TextFileReader(filepath_or_buffer, \u001b[39m*\u001b[39m\u001b[39m*\u001b[39mkwds)\n\u001b[0;32m    577\u001b[0m \u001b[39mif\u001b[39;00m chunksize \u001b[39mor\u001b[39;00m iterator:\n\u001b[0;32m    578\u001b[0m     \u001b[39mreturn\u001b[39;00m parser\n",
      "File \u001b[1;32mc:\\Users\\vijay\\AppData\\Local\\Programs\\Python\\Python310\\lib\\site-packages\\pandas\\io\\parsers\\readers.py:933\u001b[0m, in \u001b[0;36mTextFileReader.__init__\u001b[1;34m(self, f, engine, **kwds)\u001b[0m\n\u001b[0;32m    930\u001b[0m     \u001b[39mself\u001b[39m\u001b[39m.\u001b[39moptions[\u001b[39m\"\u001b[39m\u001b[39mhas_index_names\u001b[39m\u001b[39m\"\u001b[39m] \u001b[39m=\u001b[39m kwds[\u001b[39m\"\u001b[39m\u001b[39mhas_index_names\u001b[39m\u001b[39m\"\u001b[39m]\n\u001b[0;32m    932\u001b[0m \u001b[39mself\u001b[39m\u001b[39m.\u001b[39mhandles: IOHandles \u001b[39m|\u001b[39m \u001b[39mNone\u001b[39;00m \u001b[39m=\u001b[39m \u001b[39mNone\u001b[39;00m\n\u001b[1;32m--> 933\u001b[0m \u001b[39mself\u001b[39m\u001b[39m.\u001b[39m_engine \u001b[39m=\u001b[39m \u001b[39mself\u001b[39;49m\u001b[39m.\u001b[39;49m_make_engine(f, \u001b[39mself\u001b[39;49m\u001b[39m.\u001b[39;49mengine)\n",
      "File \u001b[1;32mc:\\Users\\vijay\\AppData\\Local\\Programs\\Python\\Python310\\lib\\site-packages\\pandas\\io\\parsers\\readers.py:1217\u001b[0m, in \u001b[0;36mTextFileReader._make_engine\u001b[1;34m(self, f, engine)\u001b[0m\n\u001b[0;32m   1213\u001b[0m     mode \u001b[39m=\u001b[39m \u001b[39m\"\u001b[39m\u001b[39mrb\u001b[39m\u001b[39m\"\u001b[39m\n\u001b[0;32m   1214\u001b[0m \u001b[39m# error: No overload variant of \"get_handle\" matches argument types\u001b[39;00m\n\u001b[0;32m   1215\u001b[0m \u001b[39m# \"Union[str, PathLike[str], ReadCsvBuffer[bytes], ReadCsvBuffer[str]]\"\u001b[39;00m\n\u001b[0;32m   1216\u001b[0m \u001b[39m# , \"str\", \"bool\", \"Any\", \"Any\", \"Any\", \"Any\", \"Any\"\u001b[39;00m\n\u001b[1;32m-> 1217\u001b[0m \u001b[39mself\u001b[39m\u001b[39m.\u001b[39mhandles \u001b[39m=\u001b[39m get_handle(  \u001b[39m# type: ignore[call-overload]\u001b[39;49;00m\n\u001b[0;32m   1218\u001b[0m     f,\n\u001b[0;32m   1219\u001b[0m     mode,\n\u001b[0;32m   1220\u001b[0m     encoding\u001b[39m=\u001b[39;49m\u001b[39mself\u001b[39;49m\u001b[39m.\u001b[39;49moptions\u001b[39m.\u001b[39;49mget(\u001b[39m\"\u001b[39;49m\u001b[39mencoding\u001b[39;49m\u001b[39m\"\u001b[39;49m, \u001b[39mNone\u001b[39;49;00m),\n\u001b[0;32m   1221\u001b[0m     compression\u001b[39m=\u001b[39;49m\u001b[39mself\u001b[39;49m\u001b[39m.\u001b[39;49moptions\u001b[39m.\u001b[39;49mget(\u001b[39m\"\u001b[39;49m\u001b[39mcompression\u001b[39;49m\u001b[39m\"\u001b[39;49m, \u001b[39mNone\u001b[39;49;00m),\n\u001b[0;32m   1222\u001b[0m     memory_map\u001b[39m=\u001b[39;49m\u001b[39mself\u001b[39;49m\u001b[39m.\u001b[39;49moptions\u001b[39m.\u001b[39;49mget(\u001b[39m\"\u001b[39;49m\u001b[39mmemory_map\u001b[39;49m\u001b[39m\"\u001b[39;49m, \u001b[39mFalse\u001b[39;49;00m),\n\u001b[0;32m   1223\u001b[0m     is_text\u001b[39m=\u001b[39;49mis_text,\n\u001b[0;32m   1224\u001b[0m     errors\u001b[39m=\u001b[39;49m\u001b[39mself\u001b[39;49m\u001b[39m.\u001b[39;49moptions\u001b[39m.\u001b[39;49mget(\u001b[39m\"\u001b[39;49m\u001b[39mencoding_errors\u001b[39;49m\u001b[39m\"\u001b[39;49m, \u001b[39m\"\u001b[39;49m\u001b[39mstrict\u001b[39;49m\u001b[39m\"\u001b[39;49m),\n\u001b[0;32m   1225\u001b[0m     storage_options\u001b[39m=\u001b[39;49m\u001b[39mself\u001b[39;49m\u001b[39m.\u001b[39;49moptions\u001b[39m.\u001b[39;49mget(\u001b[39m\"\u001b[39;49m\u001b[39mstorage_options\u001b[39;49m\u001b[39m\"\u001b[39;49m, \u001b[39mNone\u001b[39;49;00m),\n\u001b[0;32m   1226\u001b[0m )\n\u001b[0;32m   1227\u001b[0m \u001b[39massert\u001b[39;00m \u001b[39mself\u001b[39m\u001b[39m.\u001b[39mhandles \u001b[39mis\u001b[39;00m \u001b[39mnot\u001b[39;00m \u001b[39mNone\u001b[39;00m\n\u001b[0;32m   1228\u001b[0m f \u001b[39m=\u001b[39m \u001b[39mself\u001b[39m\u001b[39m.\u001b[39mhandles\u001b[39m.\u001b[39mhandle\n",
      "File \u001b[1;32mc:\\Users\\vijay\\AppData\\Local\\Programs\\Python\\Python310\\lib\\site-packages\\pandas\\io\\common.py:789\u001b[0m, in \u001b[0;36mget_handle\u001b[1;34m(path_or_buf, mode, encoding, compression, memory_map, is_text, errors, storage_options)\u001b[0m\n\u001b[0;32m    784\u001b[0m \u001b[39melif\u001b[39;00m \u001b[39misinstance\u001b[39m(handle, \u001b[39mstr\u001b[39m):\n\u001b[0;32m    785\u001b[0m     \u001b[39m# Check whether the filename is to be opened in binary mode.\u001b[39;00m\n\u001b[0;32m    786\u001b[0m     \u001b[39m# Binary mode does not support 'encoding' and 'newline'.\u001b[39;00m\n\u001b[0;32m    787\u001b[0m     \u001b[39mif\u001b[39;00m ioargs\u001b[39m.\u001b[39mencoding \u001b[39mand\u001b[39;00m \u001b[39m\"\u001b[39m\u001b[39mb\u001b[39m\u001b[39m\"\u001b[39m \u001b[39mnot\u001b[39;00m \u001b[39min\u001b[39;00m ioargs\u001b[39m.\u001b[39mmode:\n\u001b[0;32m    788\u001b[0m         \u001b[39m# Encoding\u001b[39;00m\n\u001b[1;32m--> 789\u001b[0m         handle \u001b[39m=\u001b[39m \u001b[39mopen\u001b[39;49m(\n\u001b[0;32m    790\u001b[0m             handle,\n\u001b[0;32m    791\u001b[0m             ioargs\u001b[39m.\u001b[39;49mmode,\n\u001b[0;32m    792\u001b[0m             encoding\u001b[39m=\u001b[39;49mioargs\u001b[39m.\u001b[39;49mencoding,\n\u001b[0;32m    793\u001b[0m             errors\u001b[39m=\u001b[39;49merrors,\n\u001b[0;32m    794\u001b[0m             newline\u001b[39m=\u001b[39;49m\u001b[39m\"\u001b[39;49m\u001b[39m\"\u001b[39;49m,\n\u001b[0;32m    795\u001b[0m         )\n\u001b[0;32m    796\u001b[0m     \u001b[39melse\u001b[39;00m:\n\u001b[0;32m    797\u001b[0m         \u001b[39m# Binary mode\u001b[39;00m\n\u001b[0;32m    798\u001b[0m         handle \u001b[39m=\u001b[39m \u001b[39mopen\u001b[39m(handle, ioargs\u001b[39m.\u001b[39mmode)\n",
      "\u001b[1;31mFileNotFoundError\u001b[0m: [Errno 2] No such file or directory: 'reviews/reviews_151_to_160.csv'"
     ]
    }
   ],
   "source": [
    "reviews = 0\n",
    "for i in range(len(idx) - 1):\n",
    "    INDEX_START = idx[i] + 1\n",
    "    INDEX_END = idx[i + 1]\n",
    "\n",
    "    file = pd.read_csv(f'reviews/reviews_{INDEX_START}_to_{INDEX_END}.csv')\n",
    "    reviews += len(file)\n",
    "    print(f'reviews_{INDEX_START}_to_{INDEX_END}:', len(file))\n",
    "print(reviews)"
   ]
  },
  {
   "attachments": {},
   "cell_type": "markdown",
   "metadata": {},
   "source": [
    "Checking for uniform data for each driver"
   ]
  },
  {
   "cell_type": "code",
   "execution_count": 10,
   "metadata": {},
   "outputs": [
    {
     "name": "stdout",
     "output_type": "stream",
     "text": [
      "[8652, 8764, 9108, 7395, 7524, 7792, 7968, 8343]\n"
     ]
    }
   ],
   "source": [
    "ps = [0 for i in range(NUM_DRIVER)]\n",
    "\n",
    "for i in range(len(product_list)):\n",
    "    ps[i % NUM_DRIVER] += product_list['Pages'][i]\n",
    "\n",
    "print(ps)"
   ]
  },
  {
   "cell_type": "code",
   "execution_count": null,
   "metadata": {},
   "outputs": [],
   "source": []
  },
  {
   "attachments": {},
   "cell_type": "markdown",
   "metadata": {},
   "source": [
    "Fetching the Overall Ratings and Reviews"
   ]
  },
  {
   "cell_type": "code",
   "execution_count": null,
   "metadata": {},
   "outputs": [],
   "source": [
    "product_list = pd.read_csv('unique_product_list.csv')\n",
    "product_list = pd.concat([product_list, pd.DataFrame(\n",
    "    columns=['Overall Rating','Total Reviews', 'Pages', '5', '4', '3', '2', '1'])], axis=1)\n",
    "idx_product = 0\n",
    "\n",
    "driver = webdriver.Chrome(options=options)\n",
    "for index in range(len(product_list)):\n",
    "    # try:\n",
    "    if True:\n",
    "        product_name = product_list['Name'].iloc[index]\n",
    "        product_link = product_list['Link'].iloc[index]\n",
    "\n",
    "        replace_string = 'product-reviews'\n",
    "        review_link = product_link[0: product_link.index('FLIPKART') + 8]\n",
    "        review_link = review_link.split('/')\n",
    "        review_link[4] = replace_string\n",
    "        review_link = '/'.join(review_link)\n",
    "\n",
    "        driver.get(review_link)\n",
    "        \n",
    "        print()\n",
    "        print(index, '- Product:', product_name)\n",
    "        print('Link:', review_link)\n",
    "        pages = 1\n",
    "        try:\n",
    "            pages = driver.find_element(\n",
    "                By.XPATH, \"//*[@class='_2MImiq _1Qnn1K']\").text\n",
    "            pages = int(pages[10:pages.index('\\n')].replace(',', ''))  # String\n",
    "            print('Pages:', pages)\n",
    "        except:\n",
    "            print('Sigle page review')\n",
    "        \n",
    "        soup = BeautifulSoup(driver.page_source, 'lxml')\n",
    "\n",
    "        overall_rating = soup.find(class_='_2d4LTz')\n",
    "        overall_rating = float(overall_rating.text)  # Float\n",
    "        \n",
    "        total_reviews = soup.find_all('div', attrs={'class': 'row _2afbiS'})[1].text\n",
    "        total_reviews = total_reviews[ : total_reviews.index('Reviews') - 1]\n",
    "\n",
    "        review_ratings, rating_count = soup.find_all(\n",
    "            class_='_26f_zl'), soup.find_all(class_='_1uJVNT')  # List\n",
    "        for i in range(len(rating_count)):\n",
    "            review_ratings[i] = int(review_ratings[i].text)\n",
    "            rating_count[i] = int(rating_count[i].text.replace(',', ''))\n",
    "\n",
    "        ratings_star_counts = dict(\n",
    "            zip(review_ratings, rating_count))  # dictionary\n",
    "\n",
    "        product_list['Overall Rating'].iloc[idx_product] = overall_rating\n",
    "        product_list['Total Reviews'].iloc[idx_product] = total_reviews\n",
    "        product_list['Pages'].iloc[idx_product] = pages\n",
    "        product_list['5'].iloc[idx_product] = ratings_star_counts[5]\n",
    "        product_list['4'].iloc[idx_product] = ratings_star_counts[4]\n",
    "        product_list['3'].iloc[idx_product] = ratings_star_counts[3]\n",
    "        product_list['2'].iloc[idx_product] = ratings_star_counts[2]\n",
    "        product_list['1'].iloc[idx_product] = ratings_star_counts[1]\n",
    "        idx_product += 1\n",
    "\n",
    "product_list.to_csv('unique_product_list_with_ratings.csv', index=False)\n"
   ]
  }
 ],
 "metadata": {
  "kernelspec": {
   "display_name": "Python 3",
   "language": "python",
   "name": "python3"
  },
  "language_info": {
   "codemirror_mode": {
    "name": "ipython",
    "version": 3
   },
   "file_extension": ".py",
   "mimetype": "text/x-python",
   "name": "python",
   "nbconvert_exporter": "python",
   "pygments_lexer": "ipython3",
   "version": "3.10.4"
  },
  "orig_nbformat": 4,
  "vscode": {
   "interpreter": {
    "hash": "1ce4ab41de5e60bb6ed1e6d98083279fcdd09272dfa38fc11d3c0040da5f242a"
   }
  }
 },
 "nbformat": 4,
 "nbformat_minor": 2
}
