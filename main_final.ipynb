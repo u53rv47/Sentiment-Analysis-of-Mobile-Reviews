{
 "cells": [
  {
   "cell_type": "code",
   "execution_count": 59,
   "id": "26a3aef4",
   "metadata": {},
   "outputs": [],
   "source": [
    "import os\n",
    "import re\n",
    "import glob\n",
    "import emoji\n",
    "import pandas as pd\n",
    "import nltk\n",
    "from nltk.corpus import stopwords\n",
    "from nltk.stem.porter import PorterStemmer\n",
    "import string\n"
   ]
  },
  {
   "cell_type": "code",
   "execution_count": 60,
   "id": "022b0bb6",
   "metadata": {},
   "outputs": [
    {
     "name": "stdout",
     "output_type": "stream",
     "text": [
      "317\n"
     ]
    },
    {
     "data": {
      "text/html": [
       "<div>\n",
       "<style scoped>\n",
       "    .dataframe tbody tr th:only-of-type {\n",
       "        vertical-align: middle;\n",
       "    }\n",
       "\n",
       "    .dataframe tbody tr th {\n",
       "        vertical-align: top;\n",
       "    }\n",
       "\n",
       "    .dataframe thead th {\n",
       "        text-align: right;\n",
       "    }\n",
       "</style>\n",
       "<table border=\"1\" class=\"dataframe\">\n",
       "  <thead>\n",
       "    <tr style=\"text-align: right;\">\n",
       "      <th></th>\n",
       "      <th>Brand</th>\n",
       "      <th>Name</th>\n",
       "      <th>Price</th>\n",
       "      <th>Link</th>\n",
       "      <th>Features</th>\n",
       "      <th>Overall Rating</th>\n",
       "      <th>Total Reviews</th>\n",
       "      <th>Pages</th>\n",
       "      <th>5</th>\n",
       "      <th>4</th>\n",
       "      <th>3</th>\n",
       "      <th>2</th>\n",
       "      <th>1</th>\n",
       "    </tr>\n",
       "  </thead>\n",
       "  <tbody>\n",
       "    <tr>\n",
       "      <th>0</th>\n",
       "      <td>Asus Mobile</td>\n",
       "      <td>ASUS ZenFone 5Z</td>\n",
       "      <td>36,299</td>\n",
       "      <td>https://www.flipkart.com/asus-zenfone-5z-midnight-blue-128-gb/p/itmf5g47reyumstg?pid=MOBF5G47CSQGGRCX&amp;lid=LSTMOBF5G47CSQGGRCX0L48BE&amp;marketplace=FLIPKART&amp;store=tyy%2F4io&amp;srno=b_1_1&amp;otracker=browse&amp;fm=organic&amp;iid=76c371fa-106b-41b4-a17e-4a0668322fe0.MOBF5G47CSQGGRCX.SEARCH&amp;ppt=None&amp;ppn=None&amp;ssid=847ns653m80000001675070146926</td>\n",
       "      <td>['6 GB RAM | 128 GB ROM | Expandable Upto 2 TB', '15.75 cm (6.2 inch) Full HD+ Display', '12MP + 8MP | 8MP Front Camera', '3300 mAh Battery', 'Qualcomm Snapdragon 845 Octa Core Processor', 'Brand Warranty of 1 Year Available for Handset and 6 Months for Accessories']</td>\n",
       "      <td>4.5</td>\n",
       "      <td>4616</td>\n",
       "      <td>462</td>\n",
       "      <td>15005</td>\n",
       "      <td>4566</td>\n",
       "      <td>979</td>\n",
       "      <td>339</td>\n",
       "      <td>1052</td>\n",
       "    </tr>\n",
       "  </tbody>\n",
       "</table>\n",
       "</div>"
      ],
      "text/plain": [
       "         Brand             Name   Price  \\\n",
       "0  Asus Mobile  ASUS ZenFone 5Z  36,299   \n",
       "\n",
       "                                                                                                                                                                                                                                                                                                                                   Link  \\\n",
       "0  https://www.flipkart.com/asus-zenfone-5z-midnight-blue-128-gb/p/itmf5g47reyumstg?pid=MOBF5G47CSQGGRCX&lid=LSTMOBF5G47CSQGGRCX0L48BE&marketplace=FLIPKART&store=tyy%2F4io&srno=b_1_1&otracker=browse&fm=organic&iid=76c371fa-106b-41b4-a17e-4a0668322fe0.MOBF5G47CSQGGRCX.SEARCH&ppt=None&ppn=None&ssid=847ns653m80000001675070146926   \n",
       "\n",
       "                                                                                                                                                                                                                                                                      Features  \\\n",
       "0  ['6 GB RAM | 128 GB ROM | Expandable Upto 2 TB', '15.75 cm (6.2 inch) Full HD+ Display', '12MP + 8MP | 8MP Front Camera', '3300 mAh Battery', 'Qualcomm Snapdragon 845 Octa Core Processor', 'Brand Warranty of 1 Year Available for Handset and 6 Months for Accessories']   \n",
       "\n",
       "   Overall Rating  Total Reviews  Pages      5     4    3    2     1  \n",
       "0             4.5           4616    462  15005  4566  979  339  1052  "
      ]
     },
     "execution_count": 60,
     "metadata": {},
     "output_type": "execute_result"
    }
   ],
   "source": [
    "product_list = pd.read_csv('unique_product_list_with_ratings.csv')\n",
    "q = product_list['Pages'].quantile(.95)\n",
    "product_list = product_list[product_list['Pages'] < q]\n",
    "product_list.reset_index(drop=True, inplace=True)\n",
    "product_list['Pages'] = product_list['Pages'].astype(dtype='int')\n",
    "product_list['Total Reviews'] = product_list['Total Reviews'].apply(lambda x: x.replace(',','')).astype(\n",
    "    dtype='int')\n",
    "print(len(product_list))\n",
    "product_list.head(1)\n"
   ]
  },
  {
   "cell_type": "code",
   "execution_count": 61,
   "id": "88d9e8c8",
   "metadata": {},
   "outputs": [
    {
     "data": {
      "text/plain": [
       "672580"
      ]
     },
     "execution_count": 61,
     "metadata": {},
     "output_type": "execute_result"
    }
   ],
   "source": [
    "product_list['Total Reviews'].sum()"
   ]
  },
  {
   "cell_type": "code",
   "execution_count": 62,
   "id": "005fb672",
   "metadata": {},
   "outputs": [],
   "source": [
    "# path = os.getcwd()\n",
    "# csv_files = glob.glob(os.path.join(path, \"reviews/*.csv\"))\n",
    "# data = pd.DataFrame(columns=['product', 'username', 'user_rating', 'title', 'user_review', 'review_posted_time'])\n",
    "# dfs = []\n",
    "# for f in csv_files:\n",
    "#     dfs.append(pd.read_csv(f))\n",
    "\n",
    "# data = pd.concat([df for df in dfs])\n",
    "# data.head()"
   ]
  },
  {
   "attachments": {},
   "cell_type": "markdown",
   "id": "404081cb",
   "metadata": {},
   "source": [
    "# Preprocessing steps\n",
    "1. Demojize\n",
    "2. Lower casing\n",
    "3. Remove special characters\n",
    "4. Links / URLs\n",
    "5. Remove stopwords\n",
    "6. Converting words to root word (Stemming / Lemmatization)\n",
    "6. Handle chat conversations*\n",
    "7. Text Correction\n",
    "8. "
   ]
  },
  {
   "cell_type": "code",
   "execution_count": 63,
   "id": "b5ddf2cd",
   "metadata": {},
   "outputs": [
    {
     "data": {
      "text/html": [
       "<div>\n",
       "<style scoped>\n",
       "    .dataframe tbody tr th:only-of-type {\n",
       "        vertical-align: middle;\n",
       "    }\n",
       "\n",
       "    .dataframe tbody tr th {\n",
       "        vertical-align: top;\n",
       "    }\n",
       "\n",
       "    .dataframe thead th {\n",
       "        text-align: right;\n",
       "    }\n",
       "</style>\n",
       "<table border=\"1\" class=\"dataframe\">\n",
       "  <thead>\n",
       "    <tr style=\"text-align: right;\">\n",
       "      <th></th>\n",
       "      <th>product</th>\n",
       "      <th>username</th>\n",
       "      <th>user_rating</th>\n",
       "      <th>title</th>\n",
       "      <th>user_review</th>\n",
       "      <th>review_posted_time</th>\n",
       "    </tr>\n",
       "  </thead>\n",
       "  <tbody>\n",
       "    <tr>\n",
       "      <th>0</th>\n",
       "      <td>IQOO 9T 5G</td>\n",
       "      <td>Moin Pops</td>\n",
       "      <td>4.0</td>\n",
       "      <td>Best in the market!</td>\n",
       "      <td>Awesome 👌</td>\n",
       "      <td>2 months ago</td>\n",
       "    </tr>\n",
       "    <tr>\n",
       "      <th>1</th>\n",
       "      <td>IQOO 9T 5G</td>\n",
       "      <td>Flipkart Customer</td>\n",
       "      <td>5.0</td>\n",
       "      <td>Worth every penny</td>\n",
       "      <td>So smoothly game performance</td>\n",
       "      <td>3 months ago</td>\n",
       "    </tr>\n",
       "    <tr>\n",
       "      <th>2</th>\n",
       "      <td>IQOO 9T 5G</td>\n",
       "      <td>Flipkart Customer</td>\n",
       "      <td>5.0</td>\n",
       "      <td>Great product</td>\n",
       "      <td>Best camera in this segment.. Just I loved it 🔥</td>\n",
       "      <td>30 days ago</td>\n",
       "    </tr>\n",
       "    <tr>\n",
       "      <th>3</th>\n",
       "      <td>IQOO 9T 5G</td>\n",
       "      <td>Karthik H</td>\n",
       "      <td>5.0</td>\n",
       "      <td>Terrible product</td>\n",
       "      <td>Low quality mobile not worth even for 20k Feeling like ordinary mobile</td>\n",
       "      <td>1 month ago</td>\n",
       "    </tr>\n",
       "    <tr>\n",
       "      <th>4</th>\n",
       "      <td>IQOO 9T 5G</td>\n",
       "      <td>Bhargav Bhargav</td>\n",
       "      <td>1.0</td>\n",
       "      <td>Decent product</td>\n",
       "      <td>According to price ok and specifications and design is the main plus point.</td>\n",
       "      <td>12 days ago</td>\n",
       "    </tr>\n",
       "  </tbody>\n",
       "</table>\n",
       "</div>"
      ],
      "text/plain": [
       "      product           username  user_rating                title  \\\n",
       "0  IQOO 9T 5G          Moin Pops          4.0  Best in the market!   \n",
       "1  IQOO 9T 5G  Flipkart Customer          5.0    Worth every penny   \n",
       "2  IQOO 9T 5G  Flipkart Customer          5.0        Great product   \n",
       "3  IQOO 9T 5G          Karthik H          5.0     Terrible product   \n",
       "4  IQOO 9T 5G    Bhargav Bhargav          1.0       Decent product   \n",
       "\n",
       "                                                                   user_review  \\\n",
       "0                                                                    Awesome 👌   \n",
       "1                                                 So smoothly game performance   \n",
       "2                              Best camera in this segment.. Just I loved it 🔥   \n",
       "3       Low quality mobile not worth even for 20k Feeling like ordinary mobile   \n",
       "4  According to price ok and specifications and design is the main plus point.   \n",
       "\n",
       "  review_posted_time  \n",
       "0       2 months ago  \n",
       "1       3 months ago  \n",
       "2        30 days ago  \n",
       "3        1 month ago  \n",
       "4        12 days ago  "
      ]
     },
     "execution_count": 63,
     "metadata": {},
     "output_type": "execute_result"
    }
   ],
   "source": [
    "data = pd.read_csv('reviews_201_to_last.csv')\n",
    "data.head()\n"
   ]
  },
  {
   "cell_type": "code",
   "execution_count": 64,
   "id": "6d94afea",
   "metadata": {},
   "outputs": [],
   "source": [
    "data.drop(['username', 'review_posted_time'], axis=1, inplace=True)\n"
   ]
  },
  {
   "cell_type": "code",
   "execution_count": 65,
   "id": "6ad2d4f4",
   "metadata": {},
   "outputs": [
    {
     "data": {
      "text/plain": [
       "(799258, 4)"
      ]
     },
     "execution_count": 65,
     "metadata": {},
     "output_type": "execute_result"
    }
   ],
   "source": [
    "data.shape"
   ]
  },
  {
   "cell_type": "code",
   "execution_count": 66,
   "id": "5b867ee6",
   "metadata": {},
   "outputs": [
    {
     "data": {
      "text/plain": [
       "product           96\n",
       "user_rating       15\n",
       "title           1645\n",
       "user_review    47134\n",
       "dtype: int64"
      ]
     },
     "execution_count": 66,
     "metadata": {},
     "output_type": "execute_result"
    }
   ],
   "source": [
    "data.nunique()"
   ]
  },
  {
   "cell_type": "code",
   "execution_count": 67,
   "id": "73c72b28",
   "metadata": {},
   "outputs": [
    {
     "name": "stdout",
     "output_type": "stream",
     "text": [
      "<class 'pandas.core.frame.DataFrame'>\n",
      "RangeIndex: 799258 entries, 0 to 799257\n",
      "Data columns (total 4 columns):\n",
      " #   Column       Non-Null Count   Dtype  \n",
      "---  ------       --------------   -----  \n",
      " 0   product      799258 non-null  object \n",
      " 1   user_rating  799258 non-null  float64\n",
      " 2   title        799247 non-null  object \n",
      " 3   user_review  799243 non-null  object \n",
      "dtypes: float64(1), object(3)\n",
      "memory usage: 24.4+ MB\n"
     ]
    }
   ],
   "source": [
    "data.info()"
   ]
  },
  {
   "cell_type": "code",
   "execution_count": 68,
   "id": "ac8e7fee",
   "metadata": {},
   "outputs": [
    {
     "data": {
      "text/html": [
       "<div>\n",
       "<style scoped>\n",
       "    .dataframe tbody tr th:only-of-type {\n",
       "        vertical-align: middle;\n",
       "    }\n",
       "\n",
       "    .dataframe tbody tr th {\n",
       "        vertical-align: top;\n",
       "    }\n",
       "\n",
       "    .dataframe thead th {\n",
       "        text-align: right;\n",
       "    }\n",
       "</style>\n",
       "<table border=\"1\" class=\"dataframe\">\n",
       "  <thead>\n",
       "    <tr style=\"text-align: right;\">\n",
       "      <th></th>\n",
       "      <th>count</th>\n",
       "      <th>mean</th>\n",
       "      <th>std</th>\n",
       "      <th>min</th>\n",
       "      <th>25%</th>\n",
       "      <th>50%</th>\n",
       "      <th>75%</th>\n",
       "      <th>max</th>\n",
       "    </tr>\n",
       "  </thead>\n",
       "  <tbody>\n",
       "    <tr>\n",
       "      <th>user_rating</th>\n",
       "      <td>799258.0</td>\n",
       "      <td>4.212835</td>\n",
       "      <td>1.131823</td>\n",
       "      <td>1.0</td>\n",
       "      <td>4.0</td>\n",
       "      <td>5.0</td>\n",
       "      <td>5.0</td>\n",
       "      <td>5.0</td>\n",
       "    </tr>\n",
       "  </tbody>\n",
       "</table>\n",
       "</div>"
      ],
      "text/plain": [
       "                count      mean       std  min  25%  50%  75%  max\n",
       "user_rating  799258.0  4.212835  1.131823  1.0  4.0  5.0  5.0  5.0"
      ]
     },
     "execution_count": 68,
     "metadata": {},
     "output_type": "execute_result"
    }
   ],
   "source": [
    "data.describe().T"
   ]
  },
  {
   "attachments": {},
   "cell_type": "markdown",
   "id": "85b3dd6f",
   "metadata": {},
   "source": [
    "##### 1. Demojize"
   ]
  },
  {
   "cell_type": "code",
   "execution_count": 69,
   "id": "ee682b55",
   "metadata": {},
   "outputs": [],
   "source": [
    "data['title'] = data['title'].apply(lambda text: emoji.demojize(str(text)))\n",
    "data['user_review'] = data['user_review'].apply(\n",
    "    lambda text: emoji.demojize(str(text)))\n"
   ]
  },
  {
   "attachments": {},
   "cell_type": "markdown",
   "id": "854e0b05",
   "metadata": {},
   "source": [
    "##### 2. Lower casing"
   ]
  },
  {
   "cell_type": "code",
   "execution_count": 70,
   "id": "7a7b732d",
   "metadata": {},
   "outputs": [],
   "source": [
    "for col in data.columns[data.dtypes == 'O']:\n",
    "    data[col] = data[col].str.lower()"
   ]
  },
  {
   "attachments": {},
   "cell_type": "markdown",
   "id": "ae81afc7",
   "metadata": {},
   "source": [
    "#### 1. Links / URLs"
   ]
  },
  {
   "cell_type": "code",
   "execution_count": 71,
   "id": "9c0866a5",
   "metadata": {},
   "outputs": [],
   "source": [
    "# regex = r\"(?i)\\b((?:https?://|www\\d{0,3}[.]|[a-z0-9.\\-]+[.][a-z]{2,4}/)(?:[^\\s()<>]+|\\(([^\\s()<>]+|(\\([^\\s()<>]+\\)))*\\))+(?:\\(([^\\s()<>]+|(\\([^\\s()<>]+\\)))*\\)|[^\\s`!()\\[\\]{};:'\\\".,<>?«»“”‘’]))\"\n",
    "\n",
    "regex = r\"(?i)\\b((?:https?://|www\\d{0,3}[.]|[a-z0-9.\\-]+[.][a-z]{2,4}/)(?:[^\\s()<>]+|\\(([^\\s()<>]+|(\\([^\\s()<>]+\\)))*\\))+(?:\\(([^\\s()<>]+|(\\([^\\s()<>]+\\)))*\\)))\"\n",
    "\n",
    "pattern = re.compile(regex)\n",
    "\n",
    "data['user_review'] = data['user_review'].apply(\n",
    "    lambda text: pattern.sub(r'', text))\n"
   ]
  },
  {
   "cell_type": "markdown",
   "id": "84dfb403",
   "metadata": {},
   "source": [
    "#### 4.Remove special characters"
   ]
  },
  {
   "cell_type": "code",
   "execution_count": 72,
   "id": "b4d69aef",
   "metadata": {},
   "outputs": [
    {
     "name": "stdout",
     "output_type": "stream",
     "text": [
      "!\"#$%&'()*+,-./:;<=>?@[\\]^_`{|}~\n"
     ]
    }
   ],
   "source": [
    "exclude = string.punctuation\n",
    "print(exclude)\n",
    "def remove_punc_(text):\n",
    "    return text.translate(str.maketrans(exclude, ' '*len(exclude), ''))"
   ]
  },
  {
   "cell_type": "code",
   "execution_count": 73,
   "id": "317f95d5",
   "metadata": {},
   "outputs": [],
   "source": [
    "for col in data.columns[data.dtypes == 'O']:\n",
    "    data[col] = data[col].apply(remove_punc_)"
   ]
  },
  {
   "cell_type": "code",
   "execution_count": 74,
   "id": "7e912a57",
   "metadata": {
    "scrolled": true
   },
   "outputs": [],
   "source": [
    "pd.set_option(\"max_colwidth\", 1000)"
   ]
  },
  {
   "cell_type": "code",
   "execution_count": 47,
   "id": "409dab14",
   "metadata": {
    "collapsed": true
   },
   "outputs": [
    {
     "data": {
      "text/html": [
       "<div>\n",
       "<style scoped>\n",
       "    .dataframe tbody tr th:only-of-type {\n",
       "        vertical-align: middle;\n",
       "    }\n",
       "\n",
       "    .dataframe tbody tr th {\n",
       "        vertical-align: top;\n",
       "    }\n",
       "\n",
       "    .dataframe thead th {\n",
       "        text-align: right;\n",
       "    }\n",
       "</style>\n",
       "<table border=\"1\" class=\"dataframe\">\n",
       "  <thead>\n",
       "    <tr style=\"text-align: right;\">\n",
       "      <th></th>\n",
       "      <th>product</th>\n",
       "      <th>user_rating</th>\n",
       "      <th>title</th>\n",
       "      <th>user_review</th>\n",
       "    </tr>\n",
       "  </thead>\n",
       "  <tbody>\n",
       "    <tr>\n",
       "      <th>0</th>\n",
       "      <td>iqoo 9t 5g</td>\n",
       "      <td>4.0</td>\n",
       "      <td>best in the market</td>\n",
       "      <td>awesome okhand</td>\n",
       "    </tr>\n",
       "    <tr>\n",
       "      <th>1</th>\n",
       "      <td>iqoo 9t 5g</td>\n",
       "      <td>5.0</td>\n",
       "      <td>worth every penny</td>\n",
       "      <td>so smoothly game performance</td>\n",
       "    </tr>\n",
       "    <tr>\n",
       "      <th>2</th>\n",
       "      <td>iqoo 9t 5g</td>\n",
       "      <td>5.0</td>\n",
       "      <td>great product</td>\n",
       "      <td>best camera in this segment just i loved it fire</td>\n",
       "    </tr>\n",
       "    <tr>\n",
       "      <th>3</th>\n",
       "      <td>iqoo 9t 5g</td>\n",
       "      <td>5.0</td>\n",
       "      <td>terrible product</td>\n",
       "      <td>low quality mobile not worth even for 20k feeling like ordinary mobile</td>\n",
       "    </tr>\n",
       "    <tr>\n",
       "      <th>4</th>\n",
       "      <td>iqoo 9t 5g</td>\n",
       "      <td>1.0</td>\n",
       "      <td>decent product</td>\n",
       "      <td>according to price ok and specifications and design is the main plus point</td>\n",
       "    </tr>\n",
       "    <tr>\n",
       "      <th>5</th>\n",
       "      <td>iqoo 9t 5g</td>\n",
       "      <td>3.0</td>\n",
       "      <td>pretty good</td>\n",
       "      <td>great</td>\n",
       "    </tr>\n",
       "    <tr>\n",
       "      <th>6</th>\n",
       "      <td>iqoo z6 5g</td>\n",
       "      <td>4.0</td>\n",
       "      <td>terrific</td>\n",
       "      <td>nice mobile  must buy performance is best nice display  wonderful camera experience</td>\n",
       "    </tr>\n",
       "    <tr>\n",
       "      <th>7</th>\n",
       "      <td>iqoo z6 5g</td>\n",
       "      <td>5.0</td>\n",
       "      <td>mindblowing purchase</td>\n",
       "      <td>this phone is very good and here the phone runs fast and is not laging the battery of this phone is very good and the camera is very good its selfie camera</td>\n",
       "    </tr>\n",
       "    <tr>\n",
       "      <th>8</th>\n",
       "      <td>iqoo z6 5g</td>\n",
       "      <td>5.0</td>\n",
       "      <td>wonderful</td>\n",
       "      <td>after 1month used my experience was very goodnyc design  all is one excellent phoneso i am giving 5star rb kapoor from silvassa</td>\n",
       "    </tr>\n",
       "    <tr>\n",
       "      <th>9</th>\n",
       "      <td>iqoo z6 5g</td>\n",
       "      <td>5.0</td>\n",
       "      <td>pretty good</td>\n",
       "      <td>good product</td>\n",
       "    </tr>\n",
       "  </tbody>\n",
       "</table>\n",
       "</div>"
      ],
      "text/plain": [
       "      product  user_rating                 title  \\\n",
       "0  iqoo 9t 5g          4.0    best in the market   \n",
       "1  iqoo 9t 5g          5.0     worth every penny   \n",
       "2  iqoo 9t 5g          5.0         great product   \n",
       "3  iqoo 9t 5g          5.0      terrible product   \n",
       "4  iqoo 9t 5g          1.0        decent product   \n",
       "5  iqoo 9t 5g          3.0           pretty good   \n",
       "6  iqoo z6 5g          4.0              terrific   \n",
       "7  iqoo z6 5g          5.0  mindblowing purchase   \n",
       "8  iqoo z6 5g          5.0             wonderful   \n",
       "9  iqoo z6 5g          5.0           pretty good   \n",
       "\n",
       "                                                                                                                                                   user_review  \n",
       "0                                                                                                                                               awesome okhand  \n",
       "1                                                                                                                                 so smoothly game performance  \n",
       "2                                                                                                             best camera in this segment just i loved it fire  \n",
       "3                                                                                       low quality mobile not worth even for 20k feeling like ordinary mobile  \n",
       "4                                                                                   according to price ok and specifications and design is the main plus point  \n",
       "5                                                                                                                                                        great  \n",
       "6                                                                         nice mobile  must buy performance is best nice display  wonderful camera experience   \n",
       "7  this phone is very good and here the phone runs fast and is not laging the battery of this phone is very good and the camera is very good its selfie camera  \n",
       "8                              after 1month used my experience was very goodnyc design  all is one excellent phoneso i am giving 5star rb kapoor from silvassa  \n",
       "9                                                                                                                                                 good product  "
      ]
     },
     "execution_count": 47,
     "metadata": {},
     "output_type": "execute_result"
    }
   ],
   "source": [
    "data.head(10)"
   ]
  },
  {
   "attachments": {},
   "cell_type": "markdown",
   "id": "6788ce85",
   "metadata": {},
   "source": [
    "#### 5. Removing stopwords"
   ]
  },
  {
   "cell_type": "code",
   "execution_count": null,
   "id": "c84d5f65",
   "metadata": {},
   "outputs": [],
   "source": []
  },
  {
   "cell_type": "markdown",
   "id": "6b28d66d",
   "metadata": {},
   "source": [
    "Product --> shows related names while typing (can be selected or not)\n",
    "if selected --> show dashboard\n",
    "else show dashboard of related product(s)\n",
    "\n",
    "Rating & Review (OPTIONAL / CONDITIONAL) --> SENTIMENT by category"
   ]
  },
  {
   "cell_type": "code",
   "execution_count": null,
   "id": "fbe72692",
   "metadata": {},
   "outputs": [],
   "source": [
    "FLOW\n",
    "\n",
    "more the rating ---> more positve"
   ]
  }
 ],
 "metadata": {
  "celltoolbar": "Raw Cell Format",
  "kernelspec": {
   "display_name": "Python 3 (ipykernel)",
   "language": "python",
   "name": "python3"
  },
  "language_info": {
   "codemirror_mode": {
    "name": "ipython",
    "version": 3
   },
   "file_extension": ".py",
   "mimetype": "text/x-python",
   "name": "python",
   "nbconvert_exporter": "python",
   "pygments_lexer": "ipython3",
   "version": "3.10.4"
  },
  "vscode": {
   "interpreter": {
    "hash": "1ce4ab41de5e60bb6ed1e6d98083279fcdd09272dfa38fc11d3c0040da5f242a"
   }
  }
 },
 "nbformat": 4,
 "nbformat_minor": 5
}
