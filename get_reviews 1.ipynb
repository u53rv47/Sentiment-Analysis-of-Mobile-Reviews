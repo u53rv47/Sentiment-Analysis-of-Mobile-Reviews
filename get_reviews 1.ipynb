{
 "cells": [
  {
   "cell_type": "code",
   "execution_count": 1,
   "metadata": {},
   "outputs": [],
   "source": [
    "import time\n",
    "import pandas as pd\n",
    "from selenium import webdriver\n",
    "from selenium.webdriver.support.wait import WebDriverWait\n",
    "from selenium.webdriver.support import expected_conditions as EC\n",
    "from selenium.webdriver.common.by import By\n",
    "from bs4 import BeautifulSoup\n"
   ]
  },
  {
   "cell_type": "code",
   "execution_count": 2,
   "metadata": {},
   "outputs": [],
   "source": [
    "options = webdriver.ChromeOptions()\n",
    "options.headless = True\n",
    "driver = webdriver.Chrome(options=options)"
   ]
  },
  {
   "cell_type": "code",
   "execution_count": 3,
   "metadata": {},
   "outputs": [],
   "source": [
    "def get_reviews(product_list, index_start=0, index_end=316):\n",
    "    review_df = pd.DataFrame(columns=['product','user_rating', 'title', 'user_review'])\n",
    "    idx = 0\n",
    "    for index in range(index_start, index_end + 1):\n",
    "        try:\n",
    "            product_name = product_list['Name'][index]\n",
    "            product_link = product_list['Link'][index]\n",
    "            pages = product_list['Pages'][index]\n",
    "            \n",
    "            print('Index : Page / Pages  :  Product Name')\n",
    "            for page in range(pages):\n",
    "                print(index, ':', page +\n",
    "                    1, '/', pages, ' : ', product_name)\n",
    "\n",
    "                replace_string = 'product-reviews'\n",
    "                review_link = product_link[0: product_link.index(\n",
    "                    'FLIPKART') + 8]\n",
    "                review_link = review_link.split('/')\n",
    "                review_link[4] = replace_string\n",
    "                review_link = '/'.join(review_link)\n",
    "\n",
    "                url = review_link + '&page=' + str(page+1)\n",
    "                driver.get(url)\n",
    "                \n",
    "                try:\n",
    "                    WebDriverWait(driver, 2).until(\n",
    "                        EC.presence_of_element_located(\n",
    "                            (By.XPATH, \"//span[text()='READ MORE']\")))\n",
    "\n",
    "                    element = driver.find_elements(\n",
    "                        By.XPATH, \"//span[text()='READ MORE']\")  # For expanding reviews\n",
    "\n",
    "                    for i in element:\n",
    "                        if i.text == 'READ MORE':\n",
    "                            i.click()\n",
    "                except:\n",
    "                    pass\n",
    "                \n",
    "                html = driver.page_source\n",
    "                soup = BeautifulSoup(html, 'html.parser')\n",
    "                \n",
    "                reviews = soup.find_all(\n",
    "                    'div', attrs={'class': 'col _2wzgFH K0kLPL'})\n",
    "                for review in reviews:\n",
    "                    row = review.find(\n",
    "                        'div', attrs={'class': 'row'})\n",
    "                    user_rating = row.find('div').text\n",
    "                    title = row.find('p').text\n",
    "                    user_review = review.find('div', attrs={'class': 't-ZTKy'}).text.replace('READ MORE', '')\n",
    "                    \n",
    "                    res = [product_name, user_rating,\n",
    "                        title, user_review]\n",
    "                    review_df.loc[idx] = res\n",
    "                    idx += 1\n",
    "        except:\n",
    "            break        \n",
    "\n",
    "        print()\n",
    "    return review_df"
   ]
  },
  {
   "cell_type": "code",
   "execution_count": 4,
   "metadata": {},
   "outputs": [
    {
     "name": "stdout",
     "output_type": "stream",
     "text": [
      "317\n"
     ]
    },
    {
     "data": {
      "text/html": [
       "<div>\n",
       "<style scoped>\n",
       "    .dataframe tbody tr th:only-of-type {\n",
       "        vertical-align: middle;\n",
       "    }\n",
       "\n",
       "    .dataframe tbody tr th {\n",
       "        vertical-align: top;\n",
       "    }\n",
       "\n",
       "    .dataframe thead th {\n",
       "        text-align: right;\n",
       "    }\n",
       "</style>\n",
       "<table border=\"1\" class=\"dataframe\">\n",
       "  <thead>\n",
       "    <tr style=\"text-align: right;\">\n",
       "      <th></th>\n",
       "      <th>Brand</th>\n",
       "      <th>Name</th>\n",
       "      <th>Price</th>\n",
       "      <th>Link</th>\n",
       "      <th>Features</th>\n",
       "      <th>Overall Rating</th>\n",
       "      <th>Total Reviews</th>\n",
       "      <th>Pages</th>\n",
       "      <th>5</th>\n",
       "      <th>4</th>\n",
       "      <th>3</th>\n",
       "      <th>2</th>\n",
       "      <th>1</th>\n",
       "    </tr>\n",
       "  </thead>\n",
       "  <tbody>\n",
       "    <tr>\n",
       "      <th>0</th>\n",
       "      <td>Asus Mobile</td>\n",
       "      <td>ASUS ZenFone 5Z</td>\n",
       "      <td>36,299</td>\n",
       "      <td>https://www.flipkart.com/asus-zenfone-5z-midni...</td>\n",
       "      <td>['6 GB RAM | 128 GB ROM | Expandable Upto 2 TB...</td>\n",
       "      <td>4.5</td>\n",
       "      <td>4616</td>\n",
       "      <td>462</td>\n",
       "      <td>15005</td>\n",
       "      <td>4566</td>\n",
       "      <td>979</td>\n",
       "      <td>339</td>\n",
       "      <td>1052</td>\n",
       "    </tr>\n",
       "  </tbody>\n",
       "</table>\n",
       "</div>"
      ],
      "text/plain": [
       "         Brand             Name   Price  \\\n",
       "0  Asus Mobile  ASUS ZenFone 5Z  36,299   \n",
       "\n",
       "                                                Link  \\\n",
       "0  https://www.flipkart.com/asus-zenfone-5z-midni...   \n",
       "\n",
       "                                            Features  Overall Rating  \\\n",
       "0  ['6 GB RAM | 128 GB ROM | Expandable Upto 2 TB...             4.5   \n",
       "\n",
       "   Total Reviews  Pages      5     4    3    2     1  \n",
       "0           4616    462  15005  4566  979  339  1052  "
      ]
     },
     "execution_count": 4,
     "metadata": {},
     "output_type": "execute_result"
    }
   ],
   "source": [
    "product_list = pd.read_csv('unique_product_list_with_ratings.csv')\n",
    "q = product_list['Pages'].quantile(.95)\n",
    "product_list = product_list[product_list['Pages'] < q]\n",
    "product_list.reset_index(drop=True, inplace=True)\n",
    "product_list['Pages'] = product_list['Pages'].astype(dtype='int')\n",
    "product_list['Total Reviews'] = product_list['Total Reviews'].apply(lambda x: x.replace(',', '')).astype(\n",
    "    dtype='int')\n",
    "print(len(product_list))\n",
    "product_list.head(1)\n"
   ]
  },
  {
   "cell_type": "code",
   "execution_count": 5,
   "metadata": {},
   "outputs": [
    {
     "data": {
      "text/plain": [
       "131"
      ]
     },
     "execution_count": 5,
     "metadata": {},
     "output_type": "execute_result"
    }
   ],
   "source": [
    "product_list['Total Reviews'][1]"
   ]
  },
  {
   "attachments": {},
   "cell_type": "markdown",
   "metadata": {},
   "source": [
    "Fetching data in chuncks"
   ]
  },
  {
   "cell_type": "code",
   "execution_count": 7,
   "metadata": {},
   "outputs": [
    {
     "name": "stdout",
     "output_type": "stream",
     "text": [
      "Index : Page / Pages  :  Product Name\n",
      "1 : 1 / 14  :  ASUS ROG 5s\n",
      "1 : 2 / 14  :  ASUS ROG 5s\n",
      "1 : 3 / 14  :  ASUS ROG 5s\n",
      "1 : 4 / 14  :  ASUS ROG 5s\n",
      "1 : 5 / 14  :  ASUS ROG 5s\n",
      "1 : 6 / 14  :  ASUS ROG 5s\n",
      "1 : 7 / 14  :  ASUS ROG 5s\n",
      "1 : 8 / 14  :  ASUS ROG 5s\n",
      "1 : 9 / 14  :  ASUS ROG 5s\n",
      "1 : 10 / 14  :  ASUS ROG 5s\n",
      "1 : 11 / 14  :  ASUS ROG 5s\n",
      "1 : 12 / 14  :  ASUS ROG 5s\n",
      "1 : 13 / 14  :  ASUS ROG 5s\n",
      "1 : 14 / 14  :  ASUS ROG 5s\n",
      "\n",
      "Index : Page / Pages  :  Product Name\n",
      "2 : 1 / 116  :  ASUS 6Z\n",
      "2 : 2 / 116  :  ASUS 6Z\n",
      "2 : 3 / 116  :  ASUS 6Z\n",
      "2 : 4 / 116  :  ASUS 6Z\n"
     ]
    }
   ],
   "source": [
    "# idx = [-1, 25, 50, 75, 100, 125, 150, 175, 200, 225, 250, 275, 300, 316]\n",
    "idx = [-1, 25, 50, 75, 100]\n",
    "idx = [0, 2]\n",
    "\n",
    "if True:\n",
    "    INDEX_START = 10\n",
    "    INDEX_END = 11\n",
    "\n",
    "for i in range(len(idx) - 1):    \n",
    "    INDEX_START = idx[i] + 1\n",
    "    INDEX_END = idx[i + 1]\n",
    "    \n",
    "    try:\n",
    "        review_df = get_reviews(product_list=product_list, index_start=INDEX_START, index_end=INDEX_END)\n",
    "    except:\n",
    "        review_df.to_csv(\n",
    "            f'reviews_{INDEX_START}_to_{INDEX_END}.csv', index=False)\n",
    "        break\n",
    "    review_df.to_csv(f'reviews_{INDEX_START}_to_{INDEX_END}.csv', index=False)\n",
    "    \n"
   ]
  },
  {
   "attachments": {},
   "cell_type": "markdown",
   "metadata": {},
   "source": [
    "Printing number of reviews for each chunk"
   ]
  },
  {
   "cell_type": "code",
   "execution_count": 19,
   "metadata": {},
   "outputs": [
    {
     "name": "stdout",
     "output_type": "stream",
     "text": [
      "Total Reviews: 672580\n",
      "Total Reviews from 10 to 11: 108\n"
     ]
    }
   ],
   "source": [
    "# idx = [-1, 25, 50, 75, 100, 125, 150, 175, 200, 225, 250, 275, 300, 316]\n",
    "print('Total Reviews:', product_list['Total Reviews'].sum())\n",
    "\n",
    "if True:\n",
    "    INDEX_START = 10\n",
    "    INDEX_END = 11\n",
    "\n",
    "for i in range(len(idx) - 1):\n",
    "    INDEX_START = idx[i] + 1\n",
    "    INDEX_END = idx[i + 1]\n",
    "    \n",
    "    reviews = product_list['Total Reviews'].iloc[INDEX_START: INDEX_END + 1].sum()\n",
    "    print(f'Total Reviews from {INDEX_START} to {INDEX_END}:', reviews)\n"
   ]
  },
  {
   "attachments": {},
   "cell_type": "markdown",
   "metadata": {},
   "source": [
    "Printing lenght of fetched data (from files)"
   ]
  },
  {
   "cell_type": "code",
   "execution_count": null,
   "metadata": {},
   "outputs": [],
   "source": [
    "# idx = [-1, 25, 50, 75, 100, 125, 150, 175, 200, 225, 250, 275, 300, 316]\n",
    "\n",
    "reviews = 0\n",
    "if True:\n",
    "    INDEX_START = 10\n",
    "    INDEX_END = 11\n",
    "    \n",
    "for i in range(len(idx) - 1):\n",
    "    INDEX_START = idx[i] + 1\n",
    "    INDEX_END = idx[i + 1]\n",
    "\n",
    "    file = pd.read_csv(f'reviews_{INDEX_START}_to_{INDEX_END}.csv')\n",
    "    reviews += len(file)\n",
    "    print(f'reviews_{INDEX_START}_to_{INDEX_END}:', len(file))\n",
    "print(reviews)"
   ]
  },
  {
   "attachments": {},
   "cell_type": "markdown",
   "metadata": {},
   "source": [
    "Fetching the Overall Ratings and Reviews"
   ]
  },
  {
   "cell_type": "code",
   "execution_count": null,
   "metadata": {},
   "outputs": [],
   "source": [
    "product_list = pd.read_csv('unique_product_list.csv')\n",
    "product_list.reset_index(drop=True, inplace=True)\n",
    "product_list = pd.concat([product_list, pd.DataFrame(\n",
    "    columns=['Overall Rating', 'Total Reviews', 'Pages', '5', '4', '3', '2', '1'])], axis=1)\n",
    "\n",
    "driver = webdriver.Chrome(options=options)\n",
    "for index in range(len(product_list)):\n",
    "    try:\n",
    "    # if True:\n",
    "        product_name = product_list['Name'].iloc[index]\n",
    "        product_link = product_list['Link'].iloc[index]\n",
    "\n",
    "        replace_string = 'product-reviews'\n",
    "        review_link = product_link[0: product_link.index('FLIPKART') + 8]\n",
    "        review_link = review_link.split('/')\n",
    "        review_link[4] = replace_string\n",
    "        review_link = '/'.join(review_link)\n",
    "\n",
    "        driver.get(review_link)\n",
    "        time.sleep(1)\n",
    "        \n",
    "        print()\n",
    "        print(index, '- Product:', product_name)\n",
    "        print('Link:', review_link)\n",
    "        pages = 1\n",
    "\n",
    "        soup = BeautifulSoup(driver.page_source, 'lxml')\n",
    "        \n",
    "        try:\n",
    "            pages = soup.find('div', attrs={'class':'_2MImiq _1Qnn1K'}).find('span').text\n",
    "            pages = pages.split()\n",
    "            pages = int(pages[len(pages) - 1].replace(',', ''))  # String\n",
    "            print('Pages:', pages)\n",
    "        except:\n",
    "            print('Sigle page review')\n",
    "            \n",
    "        overall_rating = soup.find(class_='_2d4LTz')\n",
    "        overall_rating = float(overall_rating.text)  # Float\n",
    "        \n",
    "        total_reviews = soup.find_all('div', attrs={'class': 'row _2afbiS'})[1].text\n",
    "        total_reviews = total_reviews[ : total_reviews.index('Reviews') - 1]\n",
    "\n",
    "        review_ratings, rating_count = soup.find_all(\n",
    "            class_='_26f_zl'), soup.find_all(class_='_1uJVNT')  # List\n",
    "        for i in range(len(rating_count)):\n",
    "            review_ratings[i] = int(review_ratings[i].text)\n",
    "            rating_count[i] = int(rating_count[i].text.replace(',', ''))\n",
    "\n",
    "        ratings_star_counts = dict(\n",
    "            zip(review_ratings, rating_count))  # dictionary\n",
    "\n",
    "        product_list['Overall Rating'].iloc[index] = overall_rating\n",
    "        product_list['Total Reviews'].iloc[index] = total_reviews\n",
    "        product_list['Pages'].iloc[index] = pages\n",
    "        product_list['5'].iloc[index] = ratings_star_counts[5]\n",
    "        product_list['4'].iloc[index] = ratings_star_counts[4]\n",
    "        product_list['3'].iloc[index] = ratings_star_counts[3]\n",
    "        product_list['2'].iloc[index] = ratings_star_counts[2]\n",
    "        product_list['1'].iloc[index] = ratings_star_counts[1]\n",
    "    except:\n",
    "        continue\n",
    "\n",
    "product_list.to_csv('unique_product_list_with_ratings.csv', index=False)\n"
   ]
  }
 ],
 "metadata": {
  "kernelspec": {
   "display_name": "Python 3",
   "language": "python",
   "name": "python3"
  },
  "language_info": {
   "codemirror_mode": {
    "name": "ipython",
    "version": 3
   },
   "file_extension": ".py",
   "mimetype": "text/x-python",
   "name": "python",
   "nbconvert_exporter": "python",
   "pygments_lexer": "ipython3",
   "version": "3.10.4"
  },
  "orig_nbformat": 4,
  "vscode": {
   "interpreter": {
    "hash": "1ce4ab41de5e60bb6ed1e6d98083279fcdd09272dfa38fc11d3c0040da5f242a"
   }
  }
 },
 "nbformat": 4,
 "nbformat_minor": 2
}
